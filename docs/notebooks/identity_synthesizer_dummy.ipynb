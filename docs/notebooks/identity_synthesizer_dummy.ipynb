{
 "cells": [
  {
   "cell_type": "code",
   "execution_count": null,
   "metadata": {},
   "outputs": [],
   "source": [
    "\"\"\"\n",
    "If running on Google Colab\n",
    "\"\"\"\n",
    "\n",
    "# %mkdir vdl\n",
    "# %cd vdl\n",
    "# ! git clone https://github.com/mostly-ai/virtualdatalab.git\n",
    "# %cd virtualdatalab\n",
    "# !pip install -r requirements.txt\n",
    "# !python setup.py build_ext --inplace \n",
    "# !pip install ."
   ]
  },
  {
   "cell_type": "markdown",
   "metadata": {},
   "source": [
    "Simplest showcase of Identiysynthesizer + Dummy Data Generator "
   ]
  },
  {
   "cell_type": "code",
   "execution_count": 1,
   "metadata": {},
   "outputs": [],
   "source": [
    "from virtualdatalab.target_data_generate import generate_simple_seq_dummy\n",
    "from virtualdatalab.synthesizers.identity import IdentitySynthesizer\n",
    "from virtualdatalab.benchmark import compare"
   ]
  },
  {
   "cell_type": "markdown",
   "metadata": {},
   "source": [
    "## Generate Fake Data"
   ]
  },
  {
   "cell_type": "code",
   "execution_count": 2,
   "metadata": {},
   "outputs": [],
   "source": [
    "\"\"\"\n",
    "1000 subjects\n",
    "sequences length between 2 and 6\n",
    "5 categorical columns\n",
    "5 sequential columns\n",
    "\n",
    "\"\"\"\n",
    "tgt_data = generate_simple_seq_dummy(1000,[2,6],5,5)"
   ]
  },
  {
   "cell_type": "markdown",
   "metadata": {},
   "source": [
    "## Instantiate Generator"
   ]
  },
  {
   "cell_type": "code",
   "execution_count": 3,
   "metadata": {},
   "outputs": [],
   "source": [
    "i = IdentitySynthesizer()\n",
    "i.train(tgt_data)\n",
    "syn_data = i.generate(1000)"
   ]
  },
  {
   "cell_type": "code",
   "execution_count": 4,
   "metadata": {},
   "outputs": [
    {
     "data": {
      "text/html": [
       "<div>\n",
       "<style scoped>\n",
       "    .dataframe tbody tr th:only-of-type {\n",
       "        vertical-align: middle;\n",
       "    }\n",
       "\n",
       "    .dataframe tbody tr th {\n",
       "        vertical-align: top;\n",
       "    }\n",
       "\n",
       "    .dataframe thead th {\n",
       "        text-align: right;\n",
       "    }\n",
       "</style>\n",
       "<table border=\"1\" class=\"dataframe\">\n",
       "  <thead>\n",
       "    <tr style=\"text-align: right;\">\n",
       "      <th></th>\n",
       "      <th></th>\n",
       "      <th>cat_col_0</th>\n",
       "      <th>cat_col_1</th>\n",
       "      <th>cat_col_2</th>\n",
       "      <th>cat_col_3</th>\n",
       "      <th>cat_col_4</th>\n",
       "      <th>num_col_0</th>\n",
       "      <th>num_col_1</th>\n",
       "      <th>num_col_2</th>\n",
       "      <th>num_col_3</th>\n",
       "      <th>num_col_4</th>\n",
       "    </tr>\n",
       "    <tr>\n",
       "      <th>id</th>\n",
       "      <th>sequence_pos</th>\n",
       "      <th></th>\n",
       "      <th></th>\n",
       "      <th></th>\n",
       "      <th></th>\n",
       "      <th></th>\n",
       "      <th></th>\n",
       "      <th></th>\n",
       "      <th></th>\n",
       "      <th></th>\n",
       "      <th></th>\n",
       "    </tr>\n",
       "  </thead>\n",
       "  <tbody>\n",
       "    <tr>\n",
       "      <th rowspan=\"2\" valign=\"top\">0</th>\n",
       "      <th>0</th>\n",
       "      <td>d</td>\n",
       "      <td>u</td>\n",
       "      <td>n</td>\n",
       "      <td>f</td>\n",
       "      <td>o</td>\n",
       "      <td>0.975978</td>\n",
       "      <td>0.058519</td>\n",
       "      <td>0.363830</td>\n",
       "      <td>0.566396</td>\n",
       "      <td>0.205613</td>\n",
       "    </tr>\n",
       "    <tr>\n",
       "      <th>1</th>\n",
       "      <td>o</td>\n",
       "      <td>r</td>\n",
       "      <td>l</td>\n",
       "      <td>f</td>\n",
       "      <td>m</td>\n",
       "      <td>0.534916</td>\n",
       "      <td>0.544221</td>\n",
       "      <td>0.494521</td>\n",
       "      <td>0.652490</td>\n",
       "      <td>0.158749</td>\n",
       "    </tr>\n",
       "    <tr>\n",
       "      <th rowspan=\"3\" valign=\"top\">1</th>\n",
       "      <th>0</th>\n",
       "      <td>v</td>\n",
       "      <td>k</td>\n",
       "      <td>r</td>\n",
       "      <td>r</td>\n",
       "      <td>s</td>\n",
       "      <td>0.768203</td>\n",
       "      <td>0.936285</td>\n",
       "      <td>0.401959</td>\n",
       "      <td>0.916696</td>\n",
       "      <td>0.826720</td>\n",
       "    </tr>\n",
       "    <tr>\n",
       "      <th>1</th>\n",
       "      <td>e</td>\n",
       "      <td>v</td>\n",
       "      <td>l</td>\n",
       "      <td>d</td>\n",
       "      <td>k</td>\n",
       "      <td>0.740438</td>\n",
       "      <td>0.547449</td>\n",
       "      <td>0.894541</td>\n",
       "      <td>0.521714</td>\n",
       "      <td>0.786842</td>\n",
       "    </tr>\n",
       "    <tr>\n",
       "      <th>2</th>\n",
       "      <td>x</td>\n",
       "      <td>s</td>\n",
       "      <td>y</td>\n",
       "      <td>s</td>\n",
       "      <td>d</td>\n",
       "      <td>0.544459</td>\n",
       "      <td>0.175237</td>\n",
       "      <td>0.057001</td>\n",
       "      <td>0.079338</td>\n",
       "      <td>0.161121</td>\n",
       "    </tr>\n",
       "  </tbody>\n",
       "</table>\n",
       "</div>"
      ],
      "text/plain": [
       "                cat_col_0 cat_col_1 cat_col_2 cat_col_3 cat_col_4  num_col_0  \\\n",
       "id sequence_pos                                                                \n",
       "0  0                    d         u         n         f         o   0.975978   \n",
       "   1                    o         r         l         f         m   0.534916   \n",
       "1  0                    v         k         r         r         s   0.768203   \n",
       "   1                    e         v         l         d         k   0.740438   \n",
       "   2                    x         s         y         s         d   0.544459   \n",
       "\n",
       "                 num_col_1  num_col_2  num_col_3  num_col_4  \n",
       "id sequence_pos                                              \n",
       "0  0              0.058519   0.363830   0.566396   0.205613  \n",
       "   1              0.544221   0.494521   0.652490   0.158749  \n",
       "1  0              0.936285   0.401959   0.916696   0.826720  \n",
       "   1              0.547449   0.894541   0.521714   0.786842  \n",
       "   2              0.175237   0.057001   0.079338   0.161121  "
      ]
     },
     "execution_count": 4,
     "metadata": {},
     "output_type": "execute_result"
    }
   ],
   "source": [
    "syn_data.head()"
   ]
  },
  {
   "cell_type": "markdown",
   "metadata": {},
   "source": [
    "## Analysis "
   ]
  },
  {
   "cell_type": "code",
   "execution_count": 5,
   "metadata": {},
   "outputs": [
    {
     "data": {
      "text/plain": [
       "{'TVD univariate': 0.0336,\n",
       " 'L1D univariate': 0.1006,\n",
       " 'L1D bivariate': 0.24768,\n",
       " 'L1D 3-way': 0.42478,\n",
       " 'L1D 4-way': 0.55654,\n",
       " 'L1D Users per Category': 0.0909,\n",
       " 'L1D Categories per User': 0.0338}"
      ]
     },
     "execution_count": 5,
     "metadata": {},
     "output_type": "execute_result"
    }
   ],
   "source": [
    "# Statistical Distances\n",
    "compare(tgt_data, syn_data, 'statistical-distances')"
   ]
  },
  {
   "cell_type": "code",
   "execution_count": 6,
   "metadata": {},
   "outputs": [
    {
     "data": {
      "text/plain": [
       "{'DCR test': 'FAILED', 'NNDR test': 'FAILED'}"
      ]
     },
     "execution_count": 6,
     "metadata": {},
     "output_type": "execute_result"
    }
   ],
   "source": [
    "# Privacy Tests\n",
    "compare(tgt_data, syn_data, 'privacy-tests')"
   ]
  },
  {
   "cell_type": "code",
   "execution_count": null,
   "metadata": {},
   "outputs": [],
   "source": []
  }
 ],
 "metadata": {
  "kernelspec": {
   "display_name": "Python 3",
   "language": "python",
   "name": "python3"
  },
  "language_info": {
   "codemirror_mode": {
    "name": "ipython",
    "version": 3
   },
   "file_extension": ".py",
   "mimetype": "text/x-python",
   "name": "python",
   "nbconvert_exporter": "python",
   "pygments_lexer": "ipython3",
   "version": "3.7.6"
  }
 },
 "nbformat": 4,
 "nbformat_minor": 4
}
